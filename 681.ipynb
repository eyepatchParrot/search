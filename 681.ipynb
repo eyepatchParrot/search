{
 "cells": [
  {
   "cell_type": "markdown",
   "metadata": {},
   "source": [
    "TODO\n",
    "=====\n",
    "\n",
    "1. Plot more sizes. Make sure that 1000 isn't hard-coded anywhere.\n",
    "4. Plot different selection amounts.\n",
    "5. Re-structure paper around toolbox of methods and new visualizations.\n",
    "\n",
    "Done\n",
    "=====\n",
    "1. Concurrent searches.\n",
    "2. Using mode to summarize runs to a single value.\n",
    "3. Graphs\n",
    "    * Concurrent searches.\n",
    "    * Plot the impact of the improvement from each technique separately.\n",
    "\n",
    "Results\n",
    "=====\n",
    "* Why is this important? Search is well-studied, but interpolation is neglected. In-memory workloads are important, and increasingly so with data visualization platforms becoming interactive.\n",
    "* Consider discussing the case where the key isn't in the array.\n",
    "\n",
    "Key Contributions\n",
    "--------------------\n",
    "1. List of optimizations for binary search.\n",
    "2. List of optimizations for interpolation search.\n",
    "3. Characterization of interpolation search and binary search.\n",
    "    * Why?\n",
    "4. Concurrent search / multi-core\n",
    "5. Relationship between mathematical properties of data and performance of interpolation search.\n",
    "    * When to use interpolation search?\n",
    "\n",
    "Toolbox of Methods\n",
    "---------------------\n",
    "Structure discussion around a compilation of effectiveness of methods. Make a table of the toolbox of methods. Show impact of each method separately. A --> B --> C\n",
    "<table>\n",
    "<tr><th>Method</th><th>Impact</th></tr>\n",
    "<tr><td>Stop testing equality.</td><td>Remove a branch.</td></tr>\n",
    "<tr><td>Don't track L+R, but L+sz.</td><td>1/2 as many cond moves.</td></tr>\n",
    "<tr><td>Linear search.</td><td>Out of order execution.</td></tr>\n",
    "</table>\n",
    "    \n",
    "\n",
    "Notes\n",
    "====\n",
    "* Now that we have a better idea of the standard deviation, are 30 samples enough?\n",
    "* Concurrent search is important because it shows very small degradation in performance, but seeing a flat line is uninteresting.\n",
    "* Should BS vs IS on threads be in terms of oracle?\n",
    "* I'm not a fan of the box plots because they're in terms of quartiles, but I like that they show something about the distribution as well as the range. I worry that violin plots are too complicated, especially since I would be plotting standard deviation and mean on top. I think the ideal plot would show mean, stddev, and range in two dimensions (performance over threads, etc.)\n",
    "* Since I'll have a graph describing the progression of each improvement. I don't need to show naive vs fast again.\n",
    "* Since I have a graph showing binary vs interpolation across dataset sizes, I don't need to show the single bar chart.\n",
    "* Since I'm using interpolation vs binary as units, and I will include the deviation across files in the dataset chart, I don't need the interpolation by file chart.\n",
    "* Important to specify that the bars in the performance graphs describe the performance of a single algorithm, with a low amount of error on different datasets."
   ]
  },
  {
   "cell_type": "code",
   "execution_count": 25,
   "metadata": {
    "collapsed": false
   },
   "outputs": [],
   "source": [
    "from pandas import read_csv,DataFrame,Series\n",
    "from os import popen\n",
    "from subprocess import call,check_output\n",
    "from math import sqrt,log2\n",
    "from matplotlib.pyplot import show, plot, table, subplots\n",
    "from scipy.stats import linregress\n",
    "from sklearn.metrics import r2_score,mean_absolute_error\n",
    "from heapq import heappush,heappop\n",
    "from numpy import array,fromiter,int64,histogram\n",
    "from IPython.display import display\n",
    "from itertools import accumulate\n",
    "from collections import Counter\n",
    "n_files = n_samples = 30\n",
    "n_thds = 4\n",
    "lg_max_sz = 5\n",
    "szs = [10**x for x in range(3,lg_max_sz+1)]\n",
    "szs_files = {sz: ['input/uniform.{}.{}'.format(sz, n) for n in range(n_samples)] for sz in szs}\n",
    "files = ['input/uniform.1000.' + str(n) for n in range(n_files)]\n",
    "bin_algs = 'binary-naive binary-size binary-linear'.split()\n",
    "int_algs = 'interpolation-naive interpolation-recurse interpolation-linear-fp interpolation-linear'.split()\n",
    "sz_algs = 'binary-linear interpolation-linear'.split()\n",
    "algs = bin_algs + int_algs\n",
    "def mode(l): return Counter(l).most_common(1)[0][0]\n",
    "def matrix_norm_vec(m, v): return (v / m.T).T"
   ]
  },
  {
   "cell_type": "markdown",
   "metadata": {},
   "source": [
    "# Algorithm cycles across Datasets\n",
    "Interpolation, binary across Datasets\n",
    "\n",
    "Naive v Best v Oracle on Binary, Interpolation w/ Min, Interpolation w/ Median"
   ]
  },
  {
   "cell_type": "code",
   "execution_count": 18,
   "metadata": {
    "collapsed": false
   },
   "outputs": [
    {
     "data": {
      "text/plain": [
       "0"
      ]
     },
     "execution_count": 18,
     "metadata": {},
     "output_type": "execute_result"
    }
   ],
   "source": [
    "call(['make'] + ['-j{}'.format(n_thds)] + [f for sz_f in szs_files.values() for f in sz_f])"
   ]
  },
  {
   "cell_type": "code",
   "execution_count": null,
   "metadata": {
    "collapsed": false
   },
   "outputs": [],
   "source": [
    "call('make release N_SAMPLES=-1 NSORT=1',shell=True)\n",
    "sz_file_alg_mode = { sz: [{alg: mode(cycles)\n",
    "                            for alg, cycles in read_csv(popen('./search {} 1 {}'.format(file, ' '.join(sz_algs)))).iteritems()}\n",
    "                           for file in szs_files[sz]]\n",
    "                     for sz in szs}"
   ]
  },
  {
   "cell_type": "code",
   "execution_count": 8,
   "metadata": {
    "collapsed": false
   },
   "outputs": [],
   "source": [
    "call('make release N_SAMPLES=-1 NSORT=1',shell=True)\n",
    "thds_files_algs_cycles = [{\n",
    "    file: read_csv(popen('./search {} {} {}'.format(file,n_thd+1,' '.join(algs)))) for file in files}\n",
    "    for n_thd in range(n_thds)]"
   ]
  },
  {
   "cell_type": "code",
   "execution_count": 26,
   "metadata": {
    "collapsed": false
   },
   "outputs": [
    {
     "name": "stdout",
     "output_type": "stream",
     "text": [
      "['binary-naive', 'binary-size', 'binary-linear', 'interpolation-naive', 'interpolation-recurse', 'interpolation-linear-fp', 'interpolation-linear']\n"
     ]
    }
   ],
   "source": [
    "print(list(thds_files_algs_cycles[0]['input/uniform.1000.0']))\n",
    "files_cycles = DataFrame({alg: [float(mode(thds_files_algs_cycles[0][file][alg])) for file in files]\n",
    "                          for alg in list(thds_files_algs_cycles[0][files[0]])},\n",
    "                        index=files).sort_values('interpolation-linear')\n",
    "files_stddev = Series({alg:max(\n",
    "    [float(100.0*thds_files_algs_cycles[0][file][alg][2000:].std()/thds_files_algs_cycles[0][file][alg][2000:].mean())\n",
    "                                for file in files])\n",
    "                       for alg in list(thds_files_algs_cycles[0][files[0]])})\n",
    "bin_improve = matrix_norm_vec(files_cycles[bin_algs], files_cycles['binary-naive'])\n",
    "int_improve = matrix_norm_vec(files_cycles[int_algs], files_cycles[int_algs[0]])\n",
    "files_cycles = matrix_norm_vec(files_cycles, files_cycles['binary-linear'])\n",
    "algs_thds_cycles = { alg: DataFrame({thds+1: [mode(algs_cycles[alg])\n",
    "                                              for algs_cycles in files_algs_cycles.values()]\n",
    "                           for thds, files_algs_cycles in enumerate(thds_files_algs_cycles)})\n",
    "                    for alg in algs\n",
    "                     }\n",
    "alg_sz_file_mode_ns = {alg: DataFrame({sz: Series([algs_mode[alg] for algs_mode in files_algs_mode])\n",
    "                             for sz, files_algs_mode in sz_file_alg_mode.items()})\n",
    "                       for alg in sz_algs}\n",
    "int_sz_mode = alg_sz_file_mode_ns['binary-linear'] / alg_sz_file_mode_ns['interpolation-linear']"
   ]
  },
  {
   "cell_type": "code",
   "execution_count": 49,
   "metadata": {
    "collapsed": false
   },
   "outputs": [
    {
     "data": {
      "image/png": "[encoded data removed]",
      "text/plain": [
       "<matplotlib.figure.Figure at 0x7f64c7e32da0>"
      ]
     },
     "metadata": {},
     "output_type": "display_data"
    },
    {
     "data": {
      "image/png": "[encoded data removed]",
      "text/plain": [
       "<matplotlib.figure.Figure at 0x7f64c7b4a7f0>"
      ]
     },
     "metadata": {},
     "output_type": "display_data"
    },
    {
     "data": {
      "text/plain": [
       "binary-linear               4.817259\n",
       "binary-naive                3.639465\n",
       "binary-size                 2.408995\n",
       "interpolation-linear        6.545804\n",
       "interpolation-linear-fp    11.784647\n",
       "interpolation-naive         2.561120\n",
       "interpolation-recurse       4.229775\n",
       "dtype: float64"
      ]
     },
     "metadata": {},
     "output_type": "display_data"
    },
    {
     "data": {
      "image/png": "[encoded data removed]",
      "text/plain": [
       "<matplotlib.figure.Figure at 0x7f64c7a52da0>"
      ]
     },
     "metadata": {},
     "output_type": "display_data"
    },
    {
     "data": {
      "image/png": "[encoded data removed]",
      "text/plain": [
       "<matplotlib.figure.Figure at 0x7f64c7b5b550>"
      ]
     },
     "metadata": {},
     "output_type": "display_data"
    }
   ],
   "source": [
    "fig, ax = subplots()\n",
    "for alg in sz_algs:\n",
    "    ax.errorbar(list(algs_thds_cycles[alg]), algs_thds_cycles[alg].mean(),\n",
    "               yerr=algs_thds_cycles[alg].std(), fmt='',capsize=5)\n",
    "show()\n",
    "\n",
    "int_sz_mode.plot.box()\n",
    "show()\n",
    "\n",
    "display(files_stddev)\n",
    "\n",
    "ax = bin_improve.plot.box()\n",
    "ax.set_ylim(0)\n",
    "show()\n",
    "\n",
    "ax = int_improve.plot.box()\n",
    "ax.set_ylim(0)\n",
    "show()\n",
    "files_d = {\n",
    "    'median': files_cycles.index[len(files_cycles.index)//2],\n",
    "    'min': files_cycles.index[0]\n",
    "} \n",
    "    \n",
    "##############################\n",
    "files_stddev.to_csv('stddev.csv')\n",
    "# TODO replace box plots where appropiate\n",
    "# https://stackoverflow.com/questions/30500280/removing-error-bar-caps-in-matplotlib\n",
    "# TODO replace with plot across datasets\n",
    "# TODO replace with plots across improvements\n",
    "# TODO push boxplot to latex\n",
    "# https://tex.stackexchange.com/questions/84541/simpler-boxplots-in-pgfplots-is-this-possible"
   ]
  },
  {
   "cell_type": "markdown",
   "metadata": {},
   "source": [
    "# Distance Across Datasets"
   ]
  },
  {
   "cell_type": "code",
   "execution_count": 6,
   "metadata": {
    "collapsed": false,
    "scrolled": true
   },
   "outputs": [],
   "source": [
    "def read_ints(file):\n",
    "    return[int(s) for s in open(file).read().splitlines()[1:]]\n",
    "def interpolate(x, n, y_l, y_r):\n",
    "    if n < 1: return 0\n",
    "    return (x-y_l) // ((y_r - y_l)//n)\n",
    "def interpolate_l(x, l):\n",
    "    return interpolate(x, len(l), l[0], l[-1])\n",
    "\n",
    "def avg(l):\n",
    "    return sum(l)/len(l)\n",
    "def dist(a_l, b_l):\n",
    "    return [abs(a - b) for a,b in zip(a_l, b_l)]\n",
    "def r2(x,y):\n",
    "    m, b, r, _, _ = linregress(x,y)\n",
    "    return r**2\n",
    "# TODO verify this matches definition\n",
    "def smoothness(nums):\n",
    "    adj_dist = [abs(d) for d in dist(nums[1:], nums[:-1])]\n",
    "    return max(adj_dist) / min(adj_dist)\n",
    "\n",
    "dist_d = {}\n",
    "for file in files:\n",
    "    nums = read_ints(file)\n",
    "    guesses = [interpolate_l(x,nums) for x in nums]\n",
    "    d = sorted(dist(range(len(nums)), guesses))\n",
    "    if file == files_d['median']: cdf = d\n",
    "    for k,v in [('max',d[-1]),\n",
    "                ('90',d[int(len(d)*.9)]),\n",
    "                ('l1',avg(d)),\n",
    "                ('r2', r2(range(len(nums)), guesses)),\n",
    "                ('smoothness', smoothness(nums)),\n",
    "                ('cycles', files_cycles['interpolation-linear'][file]),\n",
    "                ('file',file)]:\n",
    "        if k not in dist_d: dist_d[k] = [v]\n",
    "        else: dist_d[k].append(v)\n",
    "dist_d = DataFrame(dist_d).set_index('file').sort_values('l1')"
   ]
  },
  {
   "cell_type": "code",
   "execution_count": 7,
   "metadata": {
    "collapsed": false
   },
   "outputs": [
    {
     "data": {
      "image/png": "[encoded data removed]",
      "text/plain": [
       "<matplotlib.figure.Figure at 0x7fe62f43e978>"
      ]
     },
     "metadata": {},
     "output_type": "display_data"
    },
    {
     "data": {
      "image/png": "[encoded data removed]",
      "text/plain": [
       "<matplotlib.figure.Figure at 0x7fe62e2e8fd0>"
      ]
     },
     "metadata": {},
     "output_type": "display_data"
    },
    {
     "data": {
      "image/png": "[encoded data removed]",
      "text/plain": [
       "<matplotlib.figure.Figure at 0x7fe62e2d5e48>"
      ]
     },
     "metadata": {},
     "output_type": "display_data"
    }
   ],
   "source": [
    "# do CDF in LaTeX\n",
    "with open('cdf.dat','w') as f:\n",
    "    f.write('\\n'.join([str(v) for v in cdf]))\n",
    "##############################\n",
    "dist_d.reset_index().to_csv('metric.dat', sep=' ', index_label='dataset')\n",
    "Series(cdf).hist(cumulative=True).plot()\n",
    "dist_d[['l1','90','max']].plot()\n",
    "show()\n",
    "\n",
    "predictors = dist_d\n",
    "df_predict = DataFrame(predictors, index=files)\n",
    "df_predict = Series({predictor: r2(df_predict['cycles'], df_predict[predictor])\n",
    "                        for predictor, prediction in predictors.items()}).drop('cycles')\n",
    "df_predict.plot.bar()\n",
    "##############################\n",
    "df_predict.name = 'r2'\n",
    "df_predict.to_csv('predict.dat', sep=' ', index_label='metric', header=True)\n",
    "show()"
   ]
  }
 ],
 "metadata": {
  "kernelspec": {
   "display_name": "Python 3",
   "language": "python",
   "name": "python3"
  },
  "language_info": {
   "codemirror_mode": {
    "name": "ipython",
    "version": 3
   },
   "file_extension": ".py",
   "mimetype": "text/x-python",
   "name": "python",
   "nbconvert_exporter": "python",
   "pygments_lexer": "ipython3",
   "version": "3.6.0"
  }
 },
 "nbformat": 4,
 "nbformat_minor": 2
}
